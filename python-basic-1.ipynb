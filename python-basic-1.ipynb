{
 "cells": [
  {
   "cell_type": "markdown",
   "metadata": {},
   "source": [
    ".# Python with AI: Python Basic\n",
    "\n",
    "Purpose of this lesson: providing a basic level proficiency of the Python programming language."
   ]
  },
  {
   "cell_type": "markdown",
   "metadata": {},
   "source": [
    "## Introduction"
   ]
  },
  {
   "cell_type": "markdown",
   "metadata": {},
   "source": [
    "### What is AI"
   ]
  },
  {
   "cell_type": "markdown",
   "metadata": {},
   "source": [
    "![Demystifing AI](https://www.legaltechnology.com/wp-content/uploads/2015/11/Artificial-Intelligence-AI-larger-graphic-1024x502.png)\n",
    "\n"
   ]
  },
  {
   "cell_type": "markdown",
   "metadata": {},
   "source": [
    "### What is Python\n",
    "Python is an interpreted, high-level, general-purpose programming language (see [full introduction](https://en.wikipedia.org/wiki/Python_(programming_language)) on Wikipedia).\n",
    "\n",
    "Python is not the only choice for developing AI programs, but it's the most common due to the large number of libraries which are relevant to this domain.\n",
    "\n",
    "One of the most interesting facts about Python is that code readibility is *mandatory*. In particular, indentation *must* be used properly (don't worry: code editors help)."
   ]
  },
  {
   "cell_type": "markdown",
   "metadata": {},
   "source": [
    "## Object types in Python"
   ]
  },
  {
   "cell_type": "markdown",
   "metadata": {},
   "source": [
    "### int, str, bool"
   ]
  },
  {
   "cell_type": "code",
   "execution_count": 7,
   "metadata": {},
   "outputs": [
    {
     "name": "stdout",
     "output_type": "stream",
     "text": [
      "3 is even: False \n",
      "\n",
      "the value of d is 9 \n",
      "\n",
      "the sum of a + d = 12 \n",
      "\n",
      "is even: False\n"
     ]
    }
   ],
   "source": [
    "a = 3\n",
    "b = \"is even:\"\n",
    "c = False\n",
    "print(a, b, c, \"\\n\")\n",
    "\n",
    "# Adding int\n",
    "d = 3 * a\n",
    "print('the value of d is', d, \"\\n\")\n",
    "print(\"the sum of a + d =\", a + d, \"\\n\")\n",
    "# Adding str\n",
    "print(b + ' {}'.format(c)) \n"
   ]
  },
  {
   "cell_type": "markdown",
   "metadata": {},
   "source": [
    "### List, dictionary, set, tuple"
   ]
  },
  {
   "cell_type": "markdown",
   "metadata": {},
   "source": [
    "All the following complex objects can include objects of different types."
   ]
  },
  {
   "cell_type": "markdown",
   "metadata": {},
   "source": [
    "**Lists** and are defined using square brackets:"
   ]
  },
  {
   "cell_type": "code",
   "execution_count": 24,
   "metadata": {},
   "outputs": [
    {
     "name": "stdout",
     "output_type": "stream",
     "text": [
      "[5.3, 'is a number:', True] \n",
      "\n",
      "is a number: \n",
      "\n",
      "new list [5.0, 'is a number:', True]\n"
     ]
    }
   ],
   "source": [
    "mylist = [5.3, 'is a number:', True]\n",
    "print(mylist, \"\\n\")\n",
    "print(mylist[1], \"\\n\")\n",
    "\n",
    "# lists are mutable\n",
    "mylist[0] = mylist[0] - 0.3\n",
    "print('new list', mylist)"
   ]
  },
  {
   "cell_type": "markdown",
   "metadata": {},
   "source": [
    "**Dictionaries** are a collection of (key, value) pairs and are defined using curly brackets:"
   ]
  },
  {
   "cell_type": "code",
   "execution_count": 14,
   "metadata": {},
   "outputs": [
    {
     "name": "stdout",
     "output_type": "stream",
     "text": [
      "{'key1': 1.6, 'key2': 7, 'key3': 9.5} \n",
      "\n",
      "7 \n",
      "\n",
      "dict_values([1.6, 7, 9.5])\n",
      "dict_keys(['key1', 'key2', 'key3'])\n"
     ]
    }
   ],
   "source": [
    "mydictionary = {'key1': 1.6, 'key2': 7, 'key3': 9.5}\n",
    "print(mydictionary, \"\\n\")\n",
    "print(mydictionary['key2'], \"\\n\")\n",
    "print(mydictionary.values())\n",
    "print(mydictionary.keys())"
   ]
  },
  {
   "cell_type": "code",
   "execution_count": 20,
   "metadata": {},
   "outputs": [
    {
     "name": "stdout",
     "output_type": "stream",
     "text": [
      "7.333333333333333\n"
     ]
    }
   ],
   "source": [
    "students_grades = {'stu1': 5, 'stu2': 10, 'stu3': 7}\n",
    "average_grades = sum(students_grades.values()) / len(students_grades)\n",
    "print(average_grades)\n",
    "\n",
    "# (7+5+10) / 3"
   ]
  },
  {
   "cell_type": "markdown",
   "metadata": {},
   "source": [
    "**Sets** are are unordered and don't contain duplicates:"
   ]
  },
  {
   "cell_type": "code",
   "execution_count": 92,
   "metadata": {},
   "outputs": [
    {
     "name": "stdout",
     "output_type": "stream",
     "text": [
      "{1, 3, 'b', 7, 'c', 'a'}\n"
     ]
    }
   ],
   "source": [
    "mySet = {'a', 'b', 'c', 'a', 1, 3, 7, 3, 3, 3, 3}\n",
    "print(mySet)"
   ]
  },
  {
   "cell_type": "markdown",
   "metadata": {},
   "source": [
    "**Tuples** are ordered, indexed sets and are immutable (unlike lists). Tuples are defined using round brackets:"
   ]
  },
  {
   "cell_type": "code",
   "execution_count": 93,
   "metadata": {},
   "outputs": [
    {
     "name": "stdout",
     "output_type": "stream",
     "text": [
      "('a', 'b', 'c', 'a', 1, 3, 7, 3, 3, 3, 3)\n",
      "b\n",
      "7\n"
     ]
    }
   ],
   "source": [
    "myTuple = ('a', 'b', 'c', 'a', 1, 3, 7, 3, 3, 3, 3)\n",
    "print(myTuple)\n",
    "print(myTuple[1])\n",
    "print(myTuple[6])"
   ]
  },
  {
   "cell_type": "markdown",
   "metadata": {},
   "source": [
    "Other data types exist."
   ]
  },
  {
   "cell_type": "markdown",
   "metadata": {},
   "source": [
    "## Basic statements in Python"
   ]
  },
  {
   "cell_type": "markdown",
   "metadata": {},
   "source": [
    "### IF"
   ]
  },
  {
   "cell_type": "code",
   "execution_count": 30,
   "metadata": {},
   "outputs": [
    {
     "name": "stdout",
     "output_type": "stream",
     "text": [
      "pass\n"
     ]
    }
   ],
   "source": [
    "students_grades = {'stu1': 5, 'stu2': 4, 'stu3': 2}\n",
    "# print(students_grades['stu1'])\n",
    "\n",
    "# select student\n",
    "\n",
    "s = 'stu1'\n",
    "threshold = 5\n",
    "\n",
    "if (students_grades['{}'.format(s)] >= threshold):\n",
    "    print(\"pass\")\n",
    "elif (students_grades['{}'.format(s)] == threshold -1):\n",
    "    print(\"require improvement\")\n",
    "else:\n",
    "    print('Fail')\n"
   ]
  },
  {
   "cell_type": "markdown",
   "metadata": {},
   "source": [
    "### FOR"
   ]
  },
  {
   "cell_type": "code",
   "execution_count": 31,
   "metadata": {},
   "outputs": [
    {
     "name": "stdout",
     "output_type": "stream",
     "text": [
      "i: 1\n",
      "i: 2\n",
      "i: 3\n",
      "i: 4\n",
      "i: 5\n",
      "i: 6\n",
      "i: 7\n",
      "i: 8\n",
      "i: 9\n"
     ]
    }
   ],
   "source": [
    "for i in range(1,10):\n",
    "    print(\"i: {}\".format(i))"
   ]
  },
  {
   "cell_type": "code",
   "execution_count": 96,
   "metadata": {},
   "outputs": [
    {
     "name": "stdout",
     "output_type": "stream",
     "text": [
      "14\n",
      "26\n",
      "23\n",
      "64\n",
      "55\n"
     ]
    }
   ],
   "source": [
    "# Get list elements\n",
    "someIntegers = [14, 26, 23, 64, 55]\n",
    "for i in someIntegers:\n",
    "    print(i)"
   ]
  },
  {
   "cell_type": "code",
   "execution_count": 40,
   "metadata": {},
   "outputs": [
    {
     "name": "stdout",
     "output_type": "stream",
     "text": [
      "14 is an even number\n",
      "26 is an even number\n",
      "23 is an odd number\n",
      "64 is an even number\n",
      "55 is an odd number\n"
     ]
    }
   ],
   "source": [
    "# Modulus\n",
    "# for + if (get the even numbers)\n",
    "someIntegers = [14, 26, 23, 64, 55]\n",
    "for i in someIntegers:\n",
    "    if i%2 == 0:\n",
    "        print(\"{} is an even number\".format(i))\n",
    "    else:\n",
    "        print(\"{} is an odd number\".format(i))"
   ]
  },
  {
   "cell_type": "code",
   "execution_count": 43,
   "metadata": {},
   "outputs": [
    {
     "name": "stdout",
     "output_type": "stream",
     "text": [
      "even  [14, 26, 64] \n",
      "\n",
      "odd  [23, 55]\n"
     ]
    }
   ],
   "source": [
    "# Pythonic for loob (list comprehension)\n",
    "someIntegers = [14, 26, 23, 64, 55]\n",
    "even = [i for i in someIntegers if i % 2 == 0]\n",
    "odd = [i for i in someIntegers if i % 2]  # or you can use i%2!=0\n",
    "print('even ', even, '\\n')\n",
    "print('odd ', odd)\n"
   ]
  },
  {
   "cell_type": "code",
   "execution_count": 46,
   "metadata": {},
   "outputs": [
    {
     "data": {
      "text/plain": [
       "['This is a good day']"
      ]
     },
     "execution_count": 46,
     "metadata": {},
     "output_type": "execute_result"
    }
   ],
   "source": [
    "list_strs = ['This is a good day', 'This is a bad day']\n",
    "\n",
    "# filter\n",
    "[i for i in list_strs if 'good' in i]\n"
   ]
  },
  {
   "cell_type": "code",
   "execution_count": 48,
   "metadata": {},
   "outputs": [
    {
     "name": "stdout",
     "output_type": "stream",
     "text": [
      "[1, 2, 3, 4, 5, 6, 7, 8, 9]\n",
      "[4, 5, 6, 7, 8, 9, 10, 11, 12]\n"
     ]
    }
   ],
   "source": [
    "# operation in list comprehension\n",
    "print(list(range(1,10)))\n",
    "a = 3\n",
    "myList = [b + a for b in range(1,10)]\n",
    "print(myList)"
   ]
  },
  {
   "cell_type": "markdown",
   "metadata": {},
   "source": [
    "### WHILE"
   ]
  },
  {
   "cell_type": "code",
   "execution_count": 49,
   "metadata": {},
   "outputs": [
    {
     "name": "stdout",
     "output_type": "stream",
     "text": [
      "The counter is: 0\n",
      "The counter is: 1\n",
      "The counter is: 2\n",
      "The counter is: 3\n",
      "The counter is: 4\n",
      "The counter is: 5\n",
      "The counter is: 6\n",
      "The counter is: 7\n",
      "The counter is: 8\n",
      "Done!\n"
     ]
    }
   ],
   "source": [
    "i = 0\n",
    "while (i < 9):\n",
    "    print('The counter is:', i)\n",
    "    i = i + 1\n",
    "\n",
    "print(\"Done!\")"
   ]
  },
  {
   "cell_type": "markdown",
   "metadata": {},
   "source": [
    "## Functions"
   ]
  },
  {
   "cell_type": "code",
   "execution_count": 50,
   "metadata": {},
   "outputs": [],
   "source": [
    "def myfunc(a, b):\n",
    "    r = b + (a % 2)\n",
    "    return r"
   ]
  },
  {
   "cell_type": "code",
   "execution_count": 101,
   "metadata": {},
   "outputs": [
    {
     "name": "stdout",
     "output_type": "stream",
     "text": [
      "6\n",
      "5\n",
      "6\n",
      "5\n",
      "6\n",
      "5\n",
      "6\n",
      "5\n",
      "6\n"
     ]
    }
   ],
   "source": [
    "for i in range(1,10):\n",
    "    print (myfunc(i,5))"
   ]
  },
  {
   "cell_type": "code",
   "execution_count": 53,
   "metadata": {},
   "outputs": [],
   "source": [
    "# function to check even number\n",
    "def is_even(x):\n",
    "    if x%2 == 0:\n",
    "        return True\n",
    "    else:\n",
    "        return False\n",
    "        "
   ]
  },
  {
   "cell_type": "code",
   "execution_count": 60,
   "metadata": {},
   "outputs": [
    {
     "name": "stdout",
     "output_type": "stream",
     "text": [
      "[False, True, True, False, False]\n"
     ]
    },
    {
     "data": {
      "text/plain": [
       "[2, 4]"
      ]
     },
     "execution_count": 60,
     "metadata": {},
     "output_type": "execute_result"
    }
   ],
   "source": [
    "a = [1, 2, 4, 5, 9]\n",
    "print([is_even(i) for i in a])\n",
    "\n",
    "# mask for the even numbers\n",
    "[i for i in a if is_even(i)]"
   ]
  },
  {
   "cell_type": "markdown",
   "metadata": {},
   "source": [
    "## Exercises 1"
   ]
  },
  {
   "cell_type": "markdown",
   "metadata": {},
   "source": [
    "Print even number between 1 and 10"
   ]
  },
  {
   "cell_type": "code",
   "execution_count": 62,
   "metadata": {},
   "outputs": [
    {
     "name": "stdout",
     "output_type": "stream",
     "text": [
      "2\n",
      "4\n",
      "6\n",
      "8\n",
      "10\n"
     ]
    }
   ],
   "source": [
    "def is_even(i):\n",
    "    r = i %2\n",
    "    if (r == 0):\n",
    "        return True\n",
    "    else:\n",
    "        return False\n",
    "\n",
    "for n in range(1,11):\n",
    "    if is_even(n):\n",
    "        print(n)"
   ]
  },
  {
   "cell_type": "markdown",
   "metadata": {},
   "source": [
    "1.2) Create, populate and print (entirely and each key one by one) a dictionary where keys are \"First Name\" and \"Second Name\" and values are your own first and second name.\n"
   ]
  },
  {
   "cell_type": "code",
   "execution_count": 63,
   "metadata": {},
   "outputs": [
    {
     "name": "stdout",
     "output_type": "stream",
     "text": [
      "{'First Name': 'xyz', 'Last Name': 'blabla'}\n",
      "xyz\n",
      "blabla\n"
     ]
    }
   ],
   "source": [
    "myDictionary = {\"First Name\": \"xyz\", \"Last Name\": \"blabla\"}\n",
    "print(myDictionary)\n",
    "print(myDictionary[\"First Name\"])\n",
    "print(myDictionary[\"Last Name\"])"
   ]
  },
  {
   "cell_type": "markdown",
   "metadata": {},
   "source": [
    "Write and run a function which calculates the area of a Triangle taking as an input a dictionary with keys \"bese\", \"height\"."
   ]
  },
  {
   "cell_type": "code",
   "execution_count": 64,
   "metadata": {},
   "outputs": [],
   "source": [
    "def areaTriangle(inputDict):\n",
    "    area_tr = inputDict[\"base\"]*inputDict[\"height\"]*0.5\n",
    "    return area_tr\n"
   ]
  },
  {
   "cell_type": "code",
   "execution_count": 65,
   "metadata": {},
   "outputs": [
    {
     "data": {
      "text/plain": [
       "75.0"
      ]
     },
     "execution_count": 65,
     "metadata": {},
     "output_type": "execute_result"
    }
   ],
   "source": [
    "myTri = {\"base\": 10, \"height\": 15}\n",
    "areaTriangle(myTri)\n"
   ]
  },
  {
   "cell_type": "markdown",
   "metadata": {},
   "source": [
    "### Exercise\n",
    "What if we have only the lengths???\n",
    "https://en.wikipedia.org/wiki/Heron%27s_formula"
   ]
  },
  {
   "cell_type": "markdown",
   "metadata": {},
   "source": [
    "-----------------------------------------------------------------------------------------------------------------------\n",
    "Write and run a function which calculates the [factorial](https://en.wikipedia.org/wiki/Factorial) of a given integer."
   ]
  },
  {
   "cell_type": "code",
   "execution_count": 66,
   "metadata": {},
   "outputs": [
    {
     "data": {
      "text/plain": [
       "2"
      ]
     },
     "execution_count": 66,
     "metadata": {},
     "output_type": "execute_result"
    }
   ],
   "source": [
    "def factorial(n):\n",
    "    fact = 1\n",
    "    for i in range(1,n+1): \n",
    "        fact = fact * i\n",
    "    return fact\n",
    "    \n",
    "\n",
    "factorial(2)"
   ]
  },
  {
   "cell_type": "markdown",
   "metadata": {},
   "source": [
    "## Nested functions\n",
    "Using the function developed as part of the previous exercise, write a function that calculates the [Binomial coefficient](https://en.wikipedia.org/wiki/Binomial_coefficient) for two integers **n** and **k**."
   ]
  },
  {
   "cell_type": "code",
   "execution_count": 67,
   "metadata": {},
   "outputs": [
    {
     "name": "stdout",
     "output_type": "stream",
     "text": [
      "6.0\n"
     ]
    }
   ],
   "source": [
    "def binomial(n, k):\n",
    "    if k>n:\n",
    "        raise Exception('First variable should be greater or equal than the second')\n",
    "    f = factorial(n)/factorial(k)/factorial(n-k)\n",
    "    return(f)\n",
    "\n",
    "print(binomial(4, 2))\n",
    "#print(binomial(3, 4))"
   ]
  },
  {
   "cell_type": "markdown",
   "metadata": {},
   "source": [
    "## Other functions"
   ]
  },
  {
   "cell_type": "markdown",
   "metadata": {},
   "source": [
    "### ZIP"
   ]
  },
  {
   "cell_type": "markdown",
   "metadata": {},
   "source": [
    "The **Zip** function joins two tuples or lists into one iterator"
   ]
  },
  {
   "cell_type": "code",
   "execution_count": 103,
   "metadata": {},
   "outputs": [
    {
     "name": "stdout",
     "output_type": "stream",
     "text": [
      "red\n",
      "0.2\n",
      "20.0% red\n",
      "green\n",
      "0.3\n",
      "30.0% green\n",
      "blue\n",
      "0.1\n",
      "10.0% blue\n",
      "purple\n",
      "0.4\n",
      "40.0% purple\n"
     ]
    }
   ],
   "source": [
    "colors = [\"red\", \"green\", \"blue\", \"purple\"]\n",
    "ratios = [0.2, 0.3, 0.1, 0.4]\n",
    "myZip = zip(colors, ratios)\n",
    "for color, ratio in myZip:\n",
    "    print(color)\n",
    "    print(ratio)\n",
    "    print(\"{}% {}\".format(ratio * 100, color))"
   ]
  },
  {
   "cell_type": "markdown",
   "metadata": {},
   "source": [
    "### MAP"
   ]
  },
  {
   "cell_type": "markdown",
   "metadata": {},
   "source": [
    "The **Map** function executes a given function for each item of a given iterator (e.g. a list). Important: in order to visualize the output of the Map function, this can be converted into a list (see below example)."
   ]
  },
  {
   "cell_type": "code",
   "execution_count": 104,
   "metadata": {},
   "outputs": [
    {
     "name": "stdout",
     "output_type": "stream",
     "text": [
      "[False, True, False, True, False, True, False, True]\n"
     ]
    }
   ],
   "source": [
    "myList = [23, 24, 25, 26, 27, 28, 29, 30]\n",
    "print(list(map(is_even, myList)))"
   ]
  },
  {
   "cell_type": "markdown",
   "metadata": {},
   "source": [
    "### FILTER"
   ]
  },
  {
   "cell_type": "markdown",
   "metadata": {},
   "source": [
    "**Filter** can be used to filter an iterator through a testing function which returs a boolean."
   ]
  },
  {
   "cell_type": "code",
   "execution_count": 105,
   "metadata": {},
   "outputs": [
    {
     "name": "stdout",
     "output_type": "stream",
     "text": [
      "[-4, -2, 0, 2, 4]\n"
     ]
    }
   ],
   "source": [
    "lst = range(-5, 5)\n",
    "lst_even = list(filter(is_even, lst))\n",
    "print(lst_even)"
   ]
  },
  {
   "cell_type": "markdown",
   "metadata": {},
   "source": [
    "### LAMBDA"
   ]
  },
  {
   "cell_type": "markdown",
   "metadata": {},
   "source": [
    "Lambda is an anonymous function which can be used to create simple functions with any type of arguments and one output."
   ]
  },
  {
   "cell_type": "code",
   "execution_count": 106,
   "metadata": {},
   "outputs": [
    {
     "name": "stdout",
     "output_type": "stream",
     "text": [
      "25\n"
     ]
    }
   ],
   "source": [
    "myLambda1 = (lambda x: x**2)\n",
    "print(myLambda1(5))"
   ]
  },
  {
   "cell_type": "code",
   "execution_count": 107,
   "metadata": {},
   "outputs": [
    {
     "name": "stdout",
     "output_type": "stream",
     "text": [
      "30\n"
     ]
    }
   ],
   "source": [
    "myLambda2 = (lambda x, y: x*y)\n",
    "print(myLambda2(5, 6))"
   ]
  },
  {
   "cell_type": "code",
   "execution_count": 108,
   "metadata": {},
   "outputs": [
    {
     "name": "stdout",
     "output_type": "stream",
     "text": [
      "[1, 4, 9, 16, 25]\n"
     ]
    }
   ],
   "source": [
    "myList = [1, 2, 3, 4, 5]\n",
    "print(list(map((lambda x: x**2), myList)))"
   ]
  },
  {
   "cell_type": "markdown",
   "metadata": {
    "collapsed": true
   },
   "source": [
    "### Draw a graph"
   ]
  },
  {
   "cell_type": "markdown",
   "metadata": {},
   "source": [
    "We need to import a new library:"
   ]
  },
  {
   "cell_type": "code",
   "execution_count": 109,
   "metadata": {},
   "outputs": [],
   "source": [
    "#!pip install matplotlib\n",
    "import matplotlib.pyplot as plt"
   ]
  },
  {
   "cell_type": "code",
   "execution_count": 110,
   "metadata": {},
   "outputs": [
    {
     "data": {
      "image/png": "[encoded data removed]",
      "text/plain": [
       "<Figure size 432x288 with 2 Axes>"
      ]
     },
     "metadata": {
      "needs_background": "light"
     },
     "output_type": "display_data"
    }
   ],
   "source": [
    "fig, axs = plt.subplots(2, 1)\n",
    "\n",
    "axs[0].plot([1,2,3],[3,2,1])\n",
    "axs[0].set_ylabel('down')\n",
    "\n",
    "axs[1].plot([1,2,3],[1,2,3])\n",
    "axs[1].set_ylabel('up')\n",
    "\n",
    "fig.tight_layout()\n",
    "plt.show()"
   ]
  },
  {
   "cell_type": "markdown",
   "metadata": {},
   "source": [
    "## Exercises"
   ]
  },
  {
   "cell_type": "markdown",
   "metadata": {},
   "source": [
    "2.5) Import the package **keras** using *pip* utility."
   ]
  },
  {
   "cell_type": "markdown",
   "metadata": {},
   "source": [
    "## Homework"
   ]
  },
  {
   "cell_type": "markdown",
   "metadata": {},
   "source": [
    "Show a simple plot with sinusoid"
   ]
  },
  {
   "cell_type": "code",
   "execution_count": 111,
   "metadata": {},
   "outputs": [
    {
     "data": {
      "image/png": "[encoded data removed]",
      "text/plain": [
       "<Figure size 432x288 with 2 Axes>"
      ]
     },
     "metadata": {
      "needs_background": "light"
     },
     "output_type": "display_data"
    }
   ],
   "source": [
    "from math import sin,pi\n",
    "fig, axs = plt.subplots(2, 1)\n",
    "\n",
    "axs[0].plot([0*pi,0.5*pi,1*pi, 1.5*pi],[sin(0*pi),sin(0.5*pi),sin(1*pi),sin(1.5*pi)])\n",
    "axs[0].set_ylabel('stupid way')\n",
    "\n",
    "\n",
    "x=[0] # <--- your code here (suggestion: remember for loop)\n",
    "y=[0] # <--- your code here\n",
    "axs[1].plot(x,y) \n",
    "axs[1].set_ylabel('smart way')\n",
    "\n",
    "\n",
    "fig.tight_layout()\n",
    "plt.show()"
   ]
  },
  {
   "cell_type": "markdown",
   "metadata": {},
   "source": [
    "## Resources"
   ]
  },
  {
   "cell_type": "markdown",
   "metadata": {},
   "source": [
    "[Python cheat sheet](https://github.build.ge.com/AILAB/training/blob/master/python-basic-2019/Python%20Cheat%20Sheet.pdf)"
   ]
  }
 ],
 "metadata": {
  "kernelspec": {
   "display_name": "Python 3",
   "language": "python",
   "name": "python3"
  },
  "language_info": {
   "codemirror_mode": {
    "name": "ipython",
    "version": 3
   },
   "file_extension": ".py",
   "mimetype": "text/x-python",
   "name": "python",
   "nbconvert_exporter": "python",
   "pygments_lexer": "ipython3",
   "version": "3.7.4"
  }
 },
 "nbformat": 4,
 "nbformat_minor": 2
}
